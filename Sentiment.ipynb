{
 "cells": [
  {
   "cell_type": "code",
   "execution_count": 2,
   "metadata": {},
   "outputs": [],
   "source": [
    "import numpy as np\n",
    "import torch\n",
    "import torch.nn as nn\n",
    "import torch.optim as optim\n",
    "import pandas as pd\n",
    "from sklearn.model_selection import train_test_split\n",
    "from sklearn.metrics import accuracy_score, f1_score\n",
    "from gensim.models import KeyedVectors\n",
    "from tqdm import tqdm\n",
    "\n",
    "import tensorflow as tf\n",
    "from tensorflow.keras.models import Sequential\n",
    "from tensorflow.keras.layers import Conv1D, MaxPooling1D, Flatten, Dense\n",
    "from keras.layers import Activation, Dense, Dropout, Flatten, Conv2D, MaxPooling2D\n",
    "from tensorflow.keras.utils import plot_model\n",
    "from tensorflow.keras.models import Model\n",
    "from tensorflow.keras.layers import Input,GlobalAveragePooling1D,concatenate"
   ]
  },
  {
   "cell_type": "code",
   "execution_count": 3,
   "metadata": {},
   "outputs": [],
   "source": [
    "# Path to the pretrained GloVe model file\n",
    "glove_path = '/data/home/vvaibhav/AI/glove.6B.200d.txt'\n",
    "\n",
    "# Load the GloVe model using gensim\n",
    "glove_model = KeyedVectors.load_word2vec_format(glove_path, binary=False)"
   ]
  },
  {
   "cell_type": "code",
   "execution_count": 4,
   "metadata": {},
   "outputs": [
    {
     "name": "stdout",
     "output_type": "stream",
     "text": [
      "(6333, 6)\n",
      "(6332,) (6332,)\n",
      "(12664,)\n",
      "(6332,)\n",
      "(6332,)\n",
      "(12664,)\n"
     ]
    }
   ],
   "source": [
    "# Load the CSV file without header\n",
    "df = pd.read_csv('ClassificationDataset-train1.csv', header=None)\n",
    "df_test = pd.read_csv('ClassificationDataset-valid1.csv', header=None)\n",
    "print(df.shape)\n",
    "# print(df.iloc[1,0])\n",
    "# Get x_train and y_train\n",
    "x_train_neg = df.iloc[1:,0]\n",
    "x_train_pos = df.iloc[1:,1]\n",
    "print(x_train_neg.shape, x_train_pos.shape)\n",
    "\n",
    "x_train_neg_array = x_train_neg.to_numpy()\n",
    "x_train_pos_array = x_train_pos.to_numpy()\n",
    "x_train_array = np.concatenate([x_train_neg_array, x_train_pos_array])\n",
    "print(x_train_array.shape)\n",
    "zeros = np.zeros(df.shape[0]-1)\n",
    "print(zeros.shape)\n",
    "ones = np.ones(df.shape[0]-1)\n",
    "print(ones.shape)\n",
    "y_train_array = np.concatenate([zeros,ones])\n",
    "print(y_train_array.shape)\n",
    "\n",
    "#similarly get x_test and y_test\n",
    "x_test_neg = df_test.iloc[1:,0]\n",
    "x_test_pos = df_test.iloc[1:,1]\n",
    "x_test_neg = x_test_neg.dropna()\n",
    "x_test_pos = x_test_pos.dropna()\n",
    "x_test_neg_array = x_test_neg.to_numpy()\n",
    "x_test_pos_array = x_test_pos.to_numpy()\n",
    "x_test_array = np.concatenate([x_test_neg_array, x_test_pos_array])\n",
    "\n",
    "zeros = np.zeros(x_test_neg.shape)\n",
    "ones = np.ones(x_test_pos.shape)\n",
    "y_test_array = np.concatenate([zeros,ones])"
   ]
  },
  {
   "cell_type": "code",
   "execution_count": 5,
   "metadata": {},
   "outputs": [
    {
     "name": "stdout",
     "output_type": "stream",
     "text": [
      "negative train samples :  (6332,)\n",
      "positive train samples :  (6332,)\n",
      "complete train shape : 12664 * (12664,)\n"
     ]
    }
   ],
   "source": [
    "print(\"negative train samples : \", x_train_neg_array.shape)\n",
    "print(\"positive train samples : \", x_train_pos_array.shape)\n",
    "print(\"complete train shape :\", x_train_array.size,'*',y_train_array.shape)"
   ]
  },
  {
   "cell_type": "code",
   "execution_count": 6,
   "metadata": {},
   "outputs": [],
   "source": [
    "# Convert text data to embeddings-based representations\n",
    "def text_to_embeddings(text, embeddings):\n",
    "    embeddings_list = [embeddings[word] if word in embeddings else np.zeros(embeddings.vector_size) for word in text]\n",
    "    #print(len(embeddings_list[0]))\n",
    "    return np.mean(embeddings_list, axis=0)"
   ]
  },
  {
   "cell_type": "code",
   "execution_count": 7,
   "metadata": {},
   "outputs": [
    {
     "name": "stdout",
     "output_type": "stream",
     "text": [
      "12664 5334\n"
     ]
    }
   ],
   "source": [
    "import tensorflow as tf\n",
    "\n",
    "# Convert text data to embeddings-based representations\n",
    "def text_to_embeddings(text, embeddings):\n",
    "    if len(text) == 0 :\n",
    "       return np.zeros(embeddings.vector_size)\n",
    "    embeddings_list = [embeddings[word] if word in embeddings else np.zeros(embeddings.vector_size) for word in text]\n",
    "    #print(len(embeddings_list[0]))\n",
    "    return np.mean(embeddings_list, axis=0)\n",
    "\n",
    "X_train_embeddings = []\n",
    "for text in x_train_array:\n",
    "  text = text.split()\n",
    "  embeddings = text_to_embeddings(text, glove_model)\n",
    "  if embeddings.shape != (200, ) :\n",
    "     print(\"hello\", text)\n",
    "  X_train_embeddings.append(embeddings)\n",
    "\n",
    "X_test_embeddings = []\n",
    "for text in x_test_array:\n",
    "  text = text.split()\n",
    "  embeddings = text_to_embeddings(text, glove_model)\n",
    "  if embeddings.shape != (200, ) :\n",
    "     print(\"hello\", text)\n",
    "  X_test_embeddings.append(embeddings)\n",
    "\n",
    "print(len(X_train_embeddings), len(X_test_embeddings))\n",
    "\n",
    "X_train_embeddings = np.array(X_train_embeddings, dtype=object)\n",
    "X_test_embeddings = np.array(X_test_embeddings, dtype=object)\n",
    "\n"
   ]
  },
  {
   "cell_type": "code",
   "execution_count": 8,
   "metadata": {},
   "outputs": [],
   "source": [
    "X_train_embeddings = X_train_embeddings.astype(np.float64)\n",
    "X_test_embeddings = X_test_embeddings.astype(np.float64)"
   ]
  },
  {
   "cell_type": "code",
   "execution_count": 9,
   "metadata": {},
   "outputs": [
    {
     "name": "stdout",
     "output_type": "stream",
     "text": [
      "(12664, 200)\n",
      "<class 'numpy.ndarray'>\n",
      "<class 'numpy.float64'>\n"
     ]
    }
   ],
   "source": [
    "print(X_train_embeddings.shape)\n",
    "print(type(X_train_embeddings))\n",
    "print(type(X_train_embeddings[0][0]))"
   ]
  },
  {
   "cell_type": "code",
   "execution_count": 10,
   "metadata": {},
   "outputs": [],
   "source": [
    "input_size = X_train_embeddings.shape[1]\n",
    "num_classes = len(np.unique(y_train_array))\n"
   ]
  },
  {
   "cell_type": "code",
   "execution_count": 11,
   "metadata": {},
   "outputs": [],
   "source": [
    "model = Sequential()\n",
    "\n",
    "model.add(Input(shape = (input_size)))\n",
    "model.add(Dense(100, activation = 'relu'))\n",
    "model.add(Dense(50, activation = 'relu'))\n",
    "model.add(Dense(num_classes, activation = 'softmax'))\n",
    "\n",
    "# Compile the model\n",
    "model.compile(optimizer='adam', loss='sparse_categorical_crossentropy', metrics=['accuracy'])"
   ]
  },
  {
   "cell_type": "code",
   "execution_count": 12,
   "metadata": {},
   "outputs": [
    {
     "name": "stdout",
     "output_type": "stream",
     "text": [
      "Epoch 1/50\n",
      "50/50 [==============================] - 3s 5ms/step - loss: 0.5041 - accuracy: 0.7920\n",
      "Epoch 2/50\n",
      "50/50 [==============================] - 0s 6ms/step - loss: 0.3644 - accuracy: 0.8488\n",
      "Epoch 3/50\n",
      "50/50 [==============================] - 0s 7ms/step - loss: 0.3411 - accuracy: 0.8583\n",
      "Epoch 4/50\n",
      "50/50 [==============================] - 0s 7ms/step - loss: 0.3281 - accuracy: 0.8620\n",
      "Epoch 5/50\n",
      "50/50 [==============================] - 0s 6ms/step - loss: 0.3195 - accuracy: 0.8662\n",
      "Epoch 6/50\n",
      "50/50 [==============================] - 0s 5ms/step - loss: 0.3107 - accuracy: 0.8683\n",
      "Epoch 7/50\n",
      "50/50 [==============================] - 0s 6ms/step - loss: 0.3036 - accuracy: 0.8715\n",
      "Epoch 8/50\n",
      "50/50 [==============================] - 0s 5ms/step - loss: 0.2963 - accuracy: 0.8751\n",
      "Epoch 9/50\n",
      "50/50 [==============================] - 0s 5ms/step - loss: 0.2919 - accuracy: 0.8759\n",
      "Epoch 10/50\n",
      "50/50 [==============================] - 0s 5ms/step - loss: 0.2848 - accuracy: 0.8814\n",
      "Epoch 11/50\n",
      "50/50 [==============================] - 0s 5ms/step - loss: 0.2791 - accuracy: 0.8822\n",
      "Epoch 12/50\n",
      "50/50 [==============================] - 0s 4ms/step - loss: 0.2724 - accuracy: 0.8859\n",
      "Epoch 13/50\n",
      "50/50 [==============================] - 0s 4ms/step - loss: 0.2685 - accuracy: 0.8870\n",
      "Epoch 14/50\n",
      "50/50 [==============================] - 0s 5ms/step - loss: 0.2741 - accuracy: 0.8842\n",
      "Epoch 15/50\n",
      "50/50 [==============================] - 0s 4ms/step - loss: 0.2602 - accuracy: 0.8908\n",
      "Epoch 16/50\n",
      "50/50 [==============================] - 0s 4ms/step - loss: 0.2540 - accuracy: 0.8919\n",
      "Epoch 17/50\n",
      "50/50 [==============================] - 0s 4ms/step - loss: 0.2542 - accuracy: 0.8918\n",
      "Epoch 18/50\n",
      "50/50 [==============================] - 0s 4ms/step - loss: 0.2506 - accuracy: 0.8942\n",
      "Epoch 19/50\n",
      "50/50 [==============================] - 0s 4ms/step - loss: 0.2450 - accuracy: 0.8955\n",
      "Epoch 20/50\n",
      "50/50 [==============================] - 0s 6ms/step - loss: 0.2423 - accuracy: 0.8973\n",
      "Epoch 21/50\n",
      "50/50 [==============================] - 0s 6ms/step - loss: 0.2356 - accuracy: 0.9005\n",
      "Epoch 22/50\n",
      "50/50 [==============================] - 1s 11ms/step - loss: 0.2342 - accuracy: 0.9012\n",
      "Epoch 23/50\n",
      "50/50 [==============================] - 0s 3ms/step - loss: 0.2291 - accuracy: 0.9030\n",
      "Epoch 24/50\n",
      "50/50 [==============================] - 0s 3ms/step - loss: 0.2262 - accuracy: 0.9048\n",
      "Epoch 25/50\n",
      "50/50 [==============================] - 0s 3ms/step - loss: 0.2241 - accuracy: 0.9041\n",
      "Epoch 26/50\n",
      "50/50 [==============================] - 0s 4ms/step - loss: 0.2213 - accuracy: 0.9067\n",
      "Epoch 27/50\n",
      "50/50 [==============================] - 0s 5ms/step - loss: 0.2174 - accuracy: 0.9098\n",
      "Epoch 28/50\n",
      "50/50 [==============================] - 0s 6ms/step - loss: 0.2187 - accuracy: 0.9056\n",
      "Epoch 29/50\n",
      "50/50 [==============================] - 0s 6ms/step - loss: 0.2172 - accuracy: 0.9086\n",
      "Epoch 30/50\n",
      "50/50 [==============================] - 0s 5ms/step - loss: 0.2087 - accuracy: 0.9126\n",
      "Epoch 31/50\n",
      "50/50 [==============================] - 0s 5ms/step - loss: 0.2078 - accuracy: 0.9116\n",
      "Epoch 32/50\n",
      "50/50 [==============================] - 0s 4ms/step - loss: 0.2089 - accuracy: 0.9108\n",
      "Epoch 33/50\n",
      "50/50 [==============================] - 0s 4ms/step - loss: 0.2083 - accuracy: 0.9107\n",
      "Epoch 34/50\n",
      "50/50 [==============================] - 0s 4ms/step - loss: 0.2004 - accuracy: 0.9152\n",
      "Epoch 35/50\n",
      "50/50 [==============================] - 0s 4ms/step - loss: 0.2000 - accuracy: 0.9161\n",
      "Epoch 36/50\n",
      "50/50 [==============================] - 0s 4ms/step - loss: 0.2052 - accuracy: 0.9108\n",
      "Epoch 37/50\n",
      "50/50 [==============================] - 0s 4ms/step - loss: 0.1974 - accuracy: 0.9169\n",
      "Epoch 38/50\n",
      "50/50 [==============================] - 0s 6ms/step - loss: 0.1927 - accuracy: 0.9188\n",
      "Epoch 39/50\n",
      "50/50 [==============================] - 0s 7ms/step - loss: 0.1902 - accuracy: 0.9199\n",
      "Epoch 40/50\n",
      "50/50 [==============================] - 0s 5ms/step - loss: 0.1986 - accuracy: 0.9141\n",
      "Epoch 41/50\n",
      "50/50 [==============================] - 0s 4ms/step - loss: 0.1924 - accuracy: 0.9184\n",
      "Epoch 42/50\n",
      "50/50 [==============================] - 0s 4ms/step - loss: 0.1851 - accuracy: 0.9219\n",
      "Epoch 43/50\n",
      "50/50 [==============================] - 0s 6ms/step - loss: 0.1919 - accuracy: 0.9161\n",
      "Epoch 44/50\n",
      "50/50 [==============================] - 0s 4ms/step - loss: 0.1863 - accuracy: 0.9206\n",
      "Epoch 45/50\n",
      "50/50 [==============================] - 0s 4ms/step - loss: 0.1820 - accuracy: 0.9234\n",
      "Epoch 46/50\n",
      "50/50 [==============================] - 0s 4ms/step - loss: 0.1777 - accuracy: 0.9252\n",
      "Epoch 47/50\n",
      "50/50 [==============================] - 0s 5ms/step - loss: 0.1798 - accuracy: 0.9234\n",
      "Epoch 48/50\n",
      "50/50 [==============================] - 0s 6ms/step - loss: 0.1770 - accuracy: 0.9250\n",
      "Epoch 49/50\n",
      "50/50 [==============================] - 0s 6ms/step - loss: 0.1716 - accuracy: 0.9276\n",
      "Epoch 50/50\n",
      "50/50 [==============================] - 0s 4ms/step - loss: 0.1748 - accuracy: 0.9250\n"
     ]
    },
    {
     "data": {
      "text/plain": [
       "<keras.callbacks.History at 0x7fc0f07b70a0>"
      ]
     },
     "execution_count": 12,
     "metadata": {},
     "output_type": "execute_result"
    }
   ],
   "source": [
    "# Train the model\n",
    "batch_size = 256\n",
    "num_epochs = 50\n",
    "\n",
    "model.fit(X_train_embeddings, y_train_array, batch_size=batch_size, epochs=num_epochs)"
   ]
  },
  {
   "cell_type": "code",
   "execution_count": 13,
   "metadata": {},
   "outputs": [
    {
     "name": "stdout",
     "output_type": "stream",
     "text": [
      "Test accuracy: 0.8254593175853019\n",
      "Micro F1 score: 0.8254593175853019\n",
      "Macro F1 score: 0.8241572189246968\n"
     ]
    }
   ],
   "source": [
    "y_pred = model.predict(X_test_embeddings)\n",
    "y_pred_labels = np.argmax(y_pred, axis=1)\n",
    "accuracy = accuracy_score(y_test_array, y_pred_labels)\n",
    "f1_weighted = f1_score(y_test_array, y_pred_labels, average='micro')\n",
    "f1_macro = f1_score(y_test_array, y_pred_labels, average='macro')\n",
    "# \"average='micro'\" to calculate F1-scores that consider all classes equally.\n",
    "\n",
    "print(\"Test accuracy:\", accuracy)\n",
    "print(\"Micro F1 score:\", f1_weighted)\n",
    "print(\"Macro F1 score:\", f1_macro)"
   ]
  }
 ],
 "metadata": {
  "kernelspec": {
   "display_name": "dl",
   "language": "python",
   "name": "python3"
  },
  "language_info": {
   "codemirror_mode": {
    "name": "ipython",
    "version": 3
   },
   "file_extension": ".py",
   "mimetype": "text/x-python",
   "name": "python",
   "nbconvert_exporter": "python",
   "pygments_lexer": "ipython3",
   "version": "3.10.9"
  },
  "orig_nbformat": 4
 },
 "nbformat": 4,
 "nbformat_minor": 2
}
